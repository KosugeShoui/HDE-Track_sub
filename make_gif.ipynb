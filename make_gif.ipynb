{
 "cells": [
  {
   "cell_type": "code",
   "execution_count": 4,
   "metadata": {},
   "outputs": [
    {
     "name": "stdout",
     "output_type": "stream",
     "text": [
      "MoviePy - Building file output_24.gif with imageio.\n"
     ]
    },
    {
     "name": "stderr",
     "output_type": "stream",
     "text": [
      "                                                               \r"
     ]
    },
    {
     "name": "stdout",
     "output_type": "stream",
     "text": [
      "GIF saved at: output_24.gif\n"
     ]
    }
   ],
   "source": [
    "from moviepy.editor import VideoFileClip\n",
    "\n",
    "def convert_mp4_to_gif(input_path, output_path, start_time=None, end_time=None, resize_factor=1.0, fps=10):\n",
    "    \"\"\"\n",
    "    MP4動画をGIFに変換する関数\n",
    "    \n",
    "\n",
    "    Args:\n",
    "        input_path (str): 入力MP4ファイルのパス\n",
    "        output_path (str): 出力GIFファイルのパス\n",
    "        start_time (float, optional): 開始時間（秒単位）。指定しない場合は動画の最初から。\n",
    "        end_time (float, optional): 終了時間（秒単位）。指定しない場合は動画の最後まで。\n",
    "        resize_factor (float, optional): サイズ変更の倍率（1.0がオリジナルサイズ）。\n",
    "        fps (int, optional): GIFのフレームレート（FPS）。\n",
    "    \n",
    "    Example:\n",
    "        convert_mp4_to_gif(\"input.mp4\", \"output.gif\", start_time=2, end_time=5, resize_factor=0.5, fps=15)\n",
    "    \"\"\"\n",
    "    clip = VideoFileClip(input_path)\n",
    "\n",
    "    # 指定された範囲で動画をトリミング\n",
    "    if start_time is not None or end_time is not None:\n",
    "        clip = clip.subclip(start_time, end_time)\n",
    "\n",
    "    # リサイズ処理\n",
    "    if resize_factor != 1.0:\n",
    "        clip = clip.resize(resize_factor)\n",
    "\n",
    "    # GIFとして保存\n",
    "    clip.write_gif(output_path, fps=fps)\n",
    "\n",
    "    print(f\"GIF saved at: {output_path}\")\n",
    "\n",
    "# 使用例\n",
    "convert_mp4_to_gif(\"./visual_test_predict_visem/24/output_video_24.avi\", \"output_24.gif\", start_time=2, end_time=5, resize_factor=0.5, fps=15)\n"
   ]
  }
 ],
 "metadata": {
  "kernelspec": {
   "display_name": "Python 3",
   "language": "python",
   "name": "python3"
  },
  "language_info": {
   "codemirror_mode": {
    "name": "ipython",
    "version": 3
   },
   "file_extension": ".py",
   "mimetype": "text/x-python",
   "name": "python",
   "nbconvert_exporter": "python",
   "pygments_lexer": "ipython3",
   "version": "3.8.10"
  }
 },
 "nbformat": 4,
 "nbformat_minor": 2
}
